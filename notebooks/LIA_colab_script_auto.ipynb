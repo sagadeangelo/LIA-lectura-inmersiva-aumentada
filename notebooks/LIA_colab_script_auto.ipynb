{
 "cells": [
  {
   "cell_type": "markdown",
   "metadata": {},
   "source": [
    "# \ud83d\udcda LIA - Generaci\u00f3n Autom\u00e1tica de Escenas con IA\n",
    "\n",
    "Este notebook clona el repositorio de LIA, instala dependencias y ejecuta el script maestro `generar_todo_desde_libro.py` con un solo clic.\n",
    "\n",
    "\u2714\ufe0f Ideal para ejecuci\u00f3n en Google Colab con GPU (T4)."
   ]
  },
  {
   "cell_type": "code",
   "execution_count": null,
   "metadata": {},
   "outputs": [],
   "source": [
    "# \u2705 Paso 1: Clonar repositorio LIA desde GitHub\n",
    "%cd /content\n",
    "!rm -rf LIA-lectura-inmersiva-aumentada\n",
    "!git clone https://github.com/sagadeangelo/LIA-lectura-inmersiva-aumentada.git\n",
    "%cd LIA-lectura-inmersiva-aumentada\n",
    "!git pull"
   ]
  },
  {
   "cell_type": "code",
   "execution_count": null,
   "metadata": {},
   "outputs": [],
   "source": [
    "# \u2705 Paso 2: Instalar dependencias necesarias para ejecutar el script\n",
    "!pip install -r requirements.txt\n",
    "!pip install python-dotenv compel"
   ]
  },
  {
   "cell_type": "markdown",
   "metadata": {},
   "source": [
    "\u26a0\ufe0f Aseg\u00farate de subir tu archivo `.env` con las claves `FREESOUND_API_KEY` y `HUGGINGFACE_TOKEN` si deseas usar audio e inferencia con modelos externos.\n"
   ]
  },
  {
   "cell_type": "code",
   "execution_count": null,
   "metadata": {},
   "outputs": [],
   "source": [
    "# \u2705 Paso 3: Ejecutar script maestro para generar im\u00e1genes y sonidos IA\n",
    "!python3 scripts/generar_todo_desde_libro.py --libro angelo_ditox --ruta libros/angelo_ditox"
   ]
  }
 ],
 "metadata": {
  "kernelspec": {
   "display_name": "Python 3",
   "language": "python",
   "name": "python3"
  },
  "language_info": {
   "name": "python",
   "version": ""
  }
 },
 "nbformat": 4,
 "nbformat_minor": 2
}