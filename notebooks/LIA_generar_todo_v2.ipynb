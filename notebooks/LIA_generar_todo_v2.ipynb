{
  "cells": [
    {
      "cell_type": "markdown",
      "metadata": {},
      "source": [
        "# \ud83d\ude80 Generar todo desde libro en LIA\n",
        "Este notebook ejecuta autom\u00e1ticamente todo el proceso de generaci\u00f3n IA desde un archivo de texto de libro, usando el script `generar_todo_desde_libro.py` de tu repositorio."
      ]
    },
    {
      "cell_type": "code",
      "execution_count": null,
      "metadata": {},
      "outputs": [],
      "source": [
        "# \ud83d\udce6 Clonar el repositorio si no existe\n",
        "!rm -rf LIA-lectura-inmersiva-aumentada\n",
        "!git clone https://github.com/sagadeangelo/LIA-lectura-inmersiva-aumentada.git\n",
        "%cd LIA-lectura-inmersiva-aumentada"
      ]
    },
    {
      "cell_type": "code",
      "execution_count": null,
      "metadata": {},
      "outputs": [],
      "source": [
        "# \ud83e\uddea Instalar dependencias\n",
        "!pip install diffusers transformers accelerate safetensors peft compel python-dotenv"
      ]
    },
    {
      "cell_type": "code",
      "execution_count": null,
      "metadata": {},
      "outputs": [],
      "source": [
        "# \ud83d\udd10 Crear .env con tus claves (edita aqu\u00ed tu token antes de ejecutar)\n",
        "from pathlib import Path\n",
        "\n",
        "env_content = '''\n",
        "FREESOUND_API_KEY=tu_clave_de_freesound_aqui\n",
        "HUGGINGFACE_TOKEN=tu_token_de_huggingface_aqui\n",
        "'''.strip()\n",
        "\n",
        "Path('.env').write_text(env_content)\n",
        "print(\"\u2705 .env creado\")"
      ]
    },
    {
      "cell_type": "code",
      "execution_count": null,
      "metadata": {},
      "outputs": [],
      "source": [
        "# \u25b6\ufe0f Ejecutar script de generaci\u00f3n completo\n",
        "import argparse, sys\n",
        "\n",
        "args = argparse.Namespace(\n",
        "    libro=\"libros/angelo_ditox/angelo_ditox.txt\",\n",
        "    ruta=\"libros/angelo_ditox\"\n",
        ")\n",
        "\n",
        "sys.argv = [\"scripts/generar_todo_desde_libro.py\"] + [f\"--{k}={v}\" for k, v in vars(args).items()]\n",
        "exec(open(\"scripts/generar_todo_desde_libro.py\").read())"
      ]
    }
  ],
  "metadata": {
    "kernelspec": {
      "display_name": "Python 3",
      "language": "python",
      "name": "python3"
    },
    "language_info": {
      "name": "python",
      "version": "3.11"
    }
  },
  "nbformat": 4,
  "nbformat_minor": 5
}