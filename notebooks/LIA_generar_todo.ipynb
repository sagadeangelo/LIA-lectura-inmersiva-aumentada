{
  "cells": [
    {
      "cell_type": "code",
      "execution_count": null,
      "metadata": {},
      "outputs": [],
      "source": [
        "# \ud83d\udce6 1. Clonar el repositorio (solo si no est\u00e1)\n",
        "!rm -rf LIA-lectura-inmersiva-aumentada\n",
        "!git clone https://github.com/sagadeangelo/LIA-lectura-inmersiva-aumentada.git\n",
        "%cd LIA-lectura-inmersiva-aumentada"
      ]
    },
    {
      "cell_type": "code",
      "execution_count": null,
      "metadata": {},
      "outputs": [],
      "source": [
        "# \ud83e\uddea 2. Instalar dependencias necesarias\n",
        "!pip install diffusers transformers accelerate safetensors peft compel python-dotenv"
      ]
    },
    {
      "cell_type": "code",
      "execution_count": null,
      "metadata": {},
      "outputs": [],
      "source": [
        "# \ud83d\udd10 3. Crear archivo .env con tu API KEY de Freesound y HuggingFace\n",
        "from pathlib import Path\n",
        "\n",
        "env_content = \"\"\"\n",
        "FREESOUND_API_KEY=tu_clave_de_freesound_aqui\n",
        "HUGGINGFACE_TOKEN=tu_token_de_huggingface_aqui\n",
        "\"\"\".strip()\n",
        "\n",
        "Path(\".env\").write_text(env_content)\n",
        "print(\"\u2705 .env creado\")"
      ]
    },
    {
      "cell_type": "code",
      "execution_count": null,
      "metadata": {},
      "outputs": [],
      "source": [
        "# \u2705 4. Ejecutar el script principal con argumentos simulados\n",
        "import argparse\n",
        "import sys\n",
        "\n",
        "args = argparse.Namespace(\n",
        "    libro=\"libros/angelo_ditox/angelo_ditox.txt\",\n",
        "    ruta=\"libros/angelo_ditox\"\n",
        ")\n",
        "\n",
        "sys.argv = [\"scripts/generar_todo_desde_libro.py\"] + [f\"--{k}={v}\" for k, v in vars(args).items()]\n",
        "exec(open(\"scripts/generar_todo_desde_libro.py\").read())"
      ]
    }
  ],
  "metadata": {
    "kernelspec": {
      "display_name": "Python 3",
      "language": "python",
      "name": "python3"
    },
    "language_info": {
      "name": "python",
      "version": "3.11"
    }
  },
  "nbformat": 4,
  "nbformat_minor": 2
}