{
 "cells": [
  {
   "cell_type": "code",
   "execution_count": null,
   "id": "9e66695e",
   "metadata": {},
   "outputs": [],
   "source": [
    "# ✅ Paso 1: Clonar el repositorio si aún no está\n",
    "!git clone https://github.com/sagadeangelo/LIA-lectura-inmersiva-aumentada.git || echo 'Repositorio ya existe'\n",
    "%cd LIA-lectura-inmersiva-aumentada\n",
    "\n",
    "# ✅ Paso 2: Instalar dependencias principales\n",
    "!pip install -r requirements.txt\n",
    "\n",
    "# ✅ Paso 3: Instalar paquetes especiales manualmente\n",
    "!pip install peft==0.8.2 accelerate==0.28.0 compel python-dotenv\n",
    "\n",
    "# ✅ Paso 4: Cargar variables del archivo .env (asegúrate de haberlo subido)\n",
    "from dotenv import load_dotenv\n",
    "load_dotenv()\n",
    "\n",
    "# ✅ Paso 5: Ejecutar el script principal con el nombre del libro y la ruta del .txt\n",
    "!python scripts/generar_todo_desde_libro.py --libro angelo_ditox --ruta libros/angelo_ditox/texto_completo.txt\n"
   ]
  }
 ],
 "metadata": {},
 "nbformat": 4,
 "nbformat_minor": 5
}
