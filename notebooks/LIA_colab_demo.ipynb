{
 "cells": [
  {
   "cell_type": "markdown",
   "id": "cfc0f71f",
   "metadata": {},
   "source": [
    "# 📘 LIA - Lectura Inmersiva Aumentada (Google Colab Demo)\n",
    "Este notebook te permite trabajar con tu proyecto LIA desde Google Colab, generando imágenes IA y procesando escenas directamente en línea."
   ]
  },
  {
   "cell_type": "code",
   "execution_count": null,
   "id": "704fbad1",
   "metadata": {},
   "outputs": [],
   "source": [
    "# ✅ Paso 1: Clonar el repositorio si aún no está\n",
    "!git clone https://github.com/sagadeangelo/LIA-lectura-inmersiva-aumentada.git || echo 'Ya existe'\n",
    "%cd LIA-lectura-inmersiva-aumentada"
   ]
  },
  {
   "cell_type": "code",
   "execution_count": null,
   "id": "cc646e5a",
   "metadata": {},
   "outputs": [],
   "source": [
    "# ✅ Paso 2: Verificar contenido\n",
    "!ls libros/\n",
    "!ls scripts/"
   ]
  },
  {
   "cell_type": "code",
   "execution_count": null,
   "id": "88a77214",
   "metadata": {},
   "outputs": [],
   "source": [
    "# ✅ Paso 3: Ver contenido del archivo JSON de escenas (ejemplo)\n",
    "import json\n",
    "with open('libros/angelo1/angelo1.json', 'r', encoding='utf-8') as f:\n",
    "    escenas = json.load(f)\n",
    "print(f'Total de escenas: {len(escenas)}')\n",
    "print('\\nPrimera escena:')\n",
    "print(escenas[0])"
   ]
  },
  {
   "cell_type": "code",
   "execution_count": null,
   "id": "c5b226ef",
   "metadata": {},
   "outputs": [],
   "source": [
    "# ✅ Paso 4: Ejecutar el script de generación de imágenes (si ya configuraste tu entorno virtual y modelos localmente)\n",
    "!python3 scripts/generar_imagenes_desde_cache.py"
   ]
  },
  {
   "cell_type": "markdown",
   "id": "1257acf0",
   "metadata": {},
   "source": [
    "Puedes adaptar este notebook para usar un modelo remoto o API si no tienes entorno local. También puedes generar sonidos, visualizar imágenes y más."
   ]
  }
 ],
 "metadata": {
  "kernelspec": {
   "display_name": "Python 3",
   "name": "python3"
  }
 },
 "nbformat": 4,
 "nbformat_minor": 5
}
